{
 "cells": [
  {
   "cell_type": "code",
   "execution_count": 1,
   "id": "2e908c09-7461-4b48-a336-15b152ffba5e",
   "metadata": {},
   "outputs": [
    {
     "name": "stderr",
     "output_type": "stream",
     "text": [
      "WARNING: Using incubator modules: jdk.incubator.vector\n",
      "Using Spark's default log4j profile: org/apache/spark/log4j2-defaults.properties\n",
      "25/09/06 01:56:42 WARN Utils: Your hostname, MacBook-Pro-Temirlan.local, resolves to a loopback address: 127.0.0.1; using 172.20.10.2 instead (on interface en0)\n",
      "25/09/06 01:56:42 WARN Utils: Set SPARK_LOCAL_IP if you need to bind to another address\n",
      "Using Spark's default log4j profile: org/apache/spark/log4j2-defaults.properties\n",
      "Setting default log level to \"WARN\".\n",
      "To adjust logging level use sc.setLogLevel(newLevel). For SparkR, use setLogLevel(newLevel).\n",
      "25/09/06 01:56:43 WARN NativeCodeLoader: Unable to load native-hadoop library for your platform... using builtin-java classes where applicable\n"
     ]
    }
   ],
   "source": [
    "from pyspark.sql import SparkSession\n",
    "\n",
    "# Создаем SparkSession\n",
    "spark = SparkSession.builder \\\n",
    "    .appName(\"Products and Categories\") \\\n",
    "    .getOrCreate()"
   ]
  },
  {
   "cell_type": "code",
   "execution_count": 2,
   "id": "fd263c4f-5046-459e-9eca-f104b049a9e5",
   "metadata": {},
   "outputs": [
    {
     "name": "stderr",
     "output_type": "stream",
     "text": [
      "                                                                                "
     ]
    },
    {
     "name": "stdout",
     "output_type": "stream",
     "text": [
      "+----------+------------+\n",
      "|product_id|product_name|\n",
      "+----------+------------+\n",
      "|         1|      Laptop|\n",
      "|         2|       Phone|\n",
      "|         3|      Tablet|\n",
      "|         4|  Headphones|\n",
      "+----------+------------+\n",
      "\n"
     ]
    }
   ],
   "source": [
    "products = [\n",
    "    (1, \"Laptop\"),\n",
    "    (2, \"Phone\"),\n",
    "    (3, \"Tablet\"),\n",
    "    (4, \"Headphones\")\n",
    "]\n",
    "\n",
    "products_df = spark.createDataFrame(products, [\"product_id\", \"product_name\"])\n",
    "products_df.show()"
   ]
  },
  {
   "cell_type": "code",
   "execution_count": 3,
   "id": "c3620e0c-b7a8-4099-9698-8bd19aa75ff7",
   "metadata": {},
   "outputs": [
    {
     "name": "stdout",
     "output_type": "stream",
     "text": [
      "+-----------+-------------+\n",
      "|category_id|category_name|\n",
      "+-----------+-------------+\n",
      "|          1|  Electronics|\n",
      "|          2|      Gadgets|\n",
      "|          3|        Audio|\n",
      "+-----------+-------------+\n",
      "\n"
     ]
    }
   ],
   "source": [
    "categories = [\n",
    "    (1, \"Electronics\"),\n",
    "    (2, \"Gadgets\"),\n",
    "    (3, \"Audio\")\n",
    "]\n",
    "\n",
    "categories_df = spark.createDataFrame(categories, [\"category_id\", \"category_name\"])\n",
    "categories_df.show()"
   ]
  },
  {
   "cell_type": "code",
   "execution_count": 4,
   "id": "981ffa87-77aa-4689-a4a3-b16943047eb0",
   "metadata": {},
   "outputs": [
    {
     "name": "stdout",
     "output_type": "stream",
     "text": [
      "+----------+-----------+\n",
      "|product_id|category_id|\n",
      "+----------+-----------+\n",
      "|         1|          1|\n",
      "|         2|          1|\n",
      "|         2|          2|\n",
      "|         4|          3|\n",
      "+----------+-----------+\n",
      "\n"
     ]
    }
   ],
   "source": [
    "product_category = [\n",
    "    (1, 1),  # Laptop → Electronics\n",
    "    (2, 1),  # Phone → Electronics\n",
    "    (2, 2),  # Phone → Gadgets\n",
    "    (4, 3)   # Headphones → Audio\n",
    "]\n",
    "\n",
    "product_category_df = spark.createDataFrame(product_category, [\"product_id\", \"category_id\"])\n",
    "product_category_df.show()"
   ]
  },
  {
   "cell_type": "code",
   "execution_count": 5,
   "id": "45c096bb-de29-4b2a-a12e-f9769fd8cae2",
   "metadata": {},
   "outputs": [
    {
     "name": "stdout",
     "output_type": "stream",
     "text": [
      "+------------+-------------+\n",
      "|product_name|category_name|\n",
      "+------------+-------------+\n",
      "|      Laptop|  Electronics|\n",
      "|       Phone|      Gadgets|\n",
      "|       Phone|  Electronics|\n",
      "|      Tablet|         NULL|\n",
      "|  Headphones|        Audio|\n",
      "+------------+-------------+\n",
      "\n"
     ]
    }
   ],
   "source": [
    "result = products_df.join(\n",
    "    product_category_df,\n",
    "    products_df.product_id == product_category_df.product_id,\n",
    "    \"left\"\n",
    ").join(\n",
    "    categories_df,\n",
    "    product_category_df.category_id == categories_df.category_id,\n",
    "    \"left\"\n",
    ").select(\n",
    "    products_df.product_name,\n",
    "    categories_df.category_name\n",
    ")\n",
    "\n",
    "result.show()"
   ]
  },
  {
   "cell_type": "code",
   "execution_count": 6,
   "id": "d54a74bd-8dce-480b-a988-19a15dbb8ddd",
   "metadata": {},
   "outputs": [
    {
     "name": "stdout",
     "output_type": "stream",
     "text": [
      "+------------+\n",
      "|product_name|\n",
      "+------------+\n",
      "|      Tablet|\n",
      "+------------+\n",
      "\n"
     ]
    }
   ],
   "source": [
    "no_category = result.filter(result.category_name.isNull()).select(\"product_name\")\n",
    "no_category.show()"
   ]
  },
  {
   "cell_type": "code",
   "execution_count": 7,
   "id": "c38e4310-8cfb-418c-8d6e-dc4a5f950831",
   "metadata": {},
   "outputs": [
    {
     "ename": "NameError",
     "evalue": "name 'get_product_category_pairs' is not defined",
     "output_type": "error",
     "traceback": [
      "\u001b[31m---------------------------------------------------------------------------\u001b[39m",
      "\u001b[31mNameError\u001b[39m                                 Traceback (most recent call last)",
      "\u001b[36mCell\u001b[39m\u001b[36m \u001b[39m\u001b[32mIn[7]\u001b[39m\u001b[32m, line 1\u001b[39m\n\u001b[32m----> \u001b[39m\u001b[32m1\u001b[39m pairs = \u001b[43mget_product_category_pairs\u001b[49m(products, categories, product_category)\n\u001b[32m      2\u001b[39m pairs.show()\n\u001b[32m      4\u001b[39m no_categories = pairs.filter(\u001b[33m\"\u001b[39m\u001b[33mcategory IS NULL\u001b[39m\u001b[33m\"\u001b[39m).select(\u001b[33m\"\u001b[39m\u001b[33mproduct\u001b[39m\u001b[33m\"\u001b[39m)\n",
      "\u001b[31mNameError\u001b[39m: name 'get_product_category_pairs' is not defined"
     ]
    }
   ],
   "source": [
    "pairs = get_product_category_pairs(products, categories, product_category)\n",
    "pairs.show()\n",
    "\n",
    "no_categories = pairs.filter(\"category IS NULL\").select(\"product\")\n",
    "no_categories.show()"
   ]
  },
  {
   "cell_type": "code",
   "execution_count": 8,
   "id": "6af67e74-e06e-498b-a0c9-7842e9a26cfc",
   "metadata": {},
   "outputs": [
    {
     "ename": "NameError",
     "evalue": "name 'get_product_category_pairs' is not defined",
     "output_type": "error",
     "traceback": [
      "\u001b[31m---------------------------------------------------------------------------\u001b[39m",
      "\u001b[31mNameError\u001b[39m                                 Traceback (most recent call last)",
      "\u001b[36mCell\u001b[39m\u001b[36m \u001b[39m\u001b[32mIn[8]\u001b[39m\u001b[32m, line 1\u001b[39m\n\u001b[32m----> \u001b[39m\u001b[32m1\u001b[39m pairs = \u001b[43mget_product_category_pairs\u001b[49m(products, categories, product_category)\n\u001b[32m      2\u001b[39m pairs.show()\n\u001b[32m      4\u001b[39m no_categories = pairs.filter(\u001b[33m\"\u001b[39m\u001b[33mcategory IS NULL\u001b[39m\u001b[33m\"\u001b[39m).select(\u001b[33m\"\u001b[39m\u001b[33mproduct\u001b[39m\u001b[33m\"\u001b[39m)\n",
      "\u001b[31mNameError\u001b[39m: name 'get_product_category_pairs' is not defined"
     ]
    }
   ],
   "source": [
    "pairs = get_product_category_pairs(products, categories, product_category)\n",
    "pairs.show()\n",
    "\n",
    "no_categories = pairs.filter(\"category IS NULL\").select(\"product\")\n",
    "no_categories.show()"
   ]
  },
  {
   "cell_type": "code",
   "execution_count": 9,
   "id": "81558766-c71f-4fa9-8b49-4d9cc443e31b",
   "metadata": {},
   "outputs": [],
   "source": [
    "from pyspark.sql import DataFrame\n",
    "\n",
    "def get_product_category_pairs(products: DataFrame, categories: DataFrame, product_category: DataFrame) -> DataFrame:\n",
    "    return products.join(\n",
    "        product_category, products.id == product_category.product_id, \"left\"\n",
    "    ).join(\n",
    "        categories, product_category.category_id == categories.id, \"left\"\n",
    "    ).select(\n",
    "        products.name.alias(\"product\"), categories.name.alias(\"category\")\n",
    "    )"
   ]
  },
  {
   "cell_type": "code",
   "execution_count": 10,
   "id": "03b896e8-049d-4d0c-9eac-ddf2346ff54c",
   "metadata": {},
   "outputs": [
    {
     "ename": "AttributeError",
     "evalue": "'list' object has no attribute 'join'",
     "output_type": "error",
     "traceback": [
      "\u001b[31m---------------------------------------------------------------------------\u001b[39m",
      "\u001b[31mAttributeError\u001b[39m                            Traceback (most recent call last)",
      "\u001b[36mCell\u001b[39m\u001b[36m \u001b[39m\u001b[32mIn[10]\u001b[39m\u001b[32m, line 1\u001b[39m\n\u001b[32m----> \u001b[39m\u001b[32m1\u001b[39m pairs = \u001b[43mget_product_category_pairs\u001b[49m\u001b[43m(\u001b[49m\u001b[43mproducts\u001b[49m\u001b[43m,\u001b[49m\u001b[43m \u001b[49m\u001b[43mcategories\u001b[49m\u001b[43m,\u001b[49m\u001b[43m \u001b[49m\u001b[43mproduct_category\u001b[49m\u001b[43m)\u001b[49m\n\u001b[32m      2\u001b[39m pairs.show()\n\u001b[32m      4\u001b[39m no_categories = pairs.filter(\u001b[33m\"\u001b[39m\u001b[33mcategory IS NULL\u001b[39m\u001b[33m\"\u001b[39m).select(\u001b[33m\"\u001b[39m\u001b[33mproduct\u001b[39m\u001b[33m\"\u001b[39m)\n",
      "\u001b[36mCell\u001b[39m\u001b[36m \u001b[39m\u001b[32mIn[9]\u001b[39m\u001b[32m, line 4\u001b[39m, in \u001b[36mget_product_category_pairs\u001b[39m\u001b[34m(products, categories, product_category)\u001b[39m\n\u001b[32m      3\u001b[39m \u001b[38;5;28;01mdef\u001b[39;00m\u001b[38;5;250m \u001b[39m\u001b[34mget_product_category_pairs\u001b[39m(products: DataFrame, categories: DataFrame, product_category: DataFrame) -> DataFrame:\n\u001b[32m----> \u001b[39m\u001b[32m4\u001b[39m     \u001b[38;5;28;01mreturn\u001b[39;00m \u001b[43mproducts\u001b[49m\u001b[43m.\u001b[49m\u001b[43mjoin\u001b[49m(\n\u001b[32m      5\u001b[39m         product_category, products.id == product_category.product_id, \u001b[33m\"\u001b[39m\u001b[33mleft\u001b[39m\u001b[33m\"\u001b[39m\n\u001b[32m      6\u001b[39m     ).join(\n\u001b[32m      7\u001b[39m         categories, product_category.category_id == categories.id, \u001b[33m\"\u001b[39m\u001b[33mleft\u001b[39m\u001b[33m\"\u001b[39m\n\u001b[32m      8\u001b[39m     ).select(\n\u001b[32m      9\u001b[39m         products.name.alias(\u001b[33m\"\u001b[39m\u001b[33mproduct\u001b[39m\u001b[33m\"\u001b[39m), categories.name.alias(\u001b[33m\"\u001b[39m\u001b[33mcategory\u001b[39m\u001b[33m\"\u001b[39m)\n\u001b[32m     10\u001b[39m     )\n",
      "\u001b[31mAttributeError\u001b[39m: 'list' object has no attribute 'join'"
     ]
    }
   ],
   "source": [
    "pairs = get_product_category_pairs(products, categories, product_category)\n",
    "pairs.show()\n",
    "\n",
    "no_categories = pairs.filter(\"category IS NULL\").select(\"product\")\n",
    "no_categories.show()"
   ]
  },
  {
   "cell_type": "code",
   "execution_count": 11,
   "id": "35e68897-ebbf-4989-a2c4-1e07129f1e57",
   "metadata": {},
   "outputs": [],
   "source": [
    "from pyspark.sql import Row\n",
    "\n",
    "products = spark.createDataFrame([\n",
    "    Row(id=1, name=\"Яблоко\"),\n",
    "    Row(id=2, name=\"Банан\"),\n",
    "    Row(id=3, name=\"Апельсин\"),\n",
    "    Row(id=4, name=\"Арбуз\"),\n",
    "])\n",
    "\n",
    "categories = spark.createDataFrame([\n",
    "    Row(id=1, name=\"Фрукты\"),\n",
    "    Row(id=2, name=\"Цитрусовые\"),\n",
    "])\n",
    "\n",
    "product_category = spark.createDataFrame([\n",
    "    Row(product_id=1, category_id=1),  # Яблоко → Фрукты\n",
    "    Row(product_id=2, category_id=1),  # Банан → Фрукты\n",
    "    Row(product_id=3, category_id=2),  # Апельсин → Цитрусовые\n",
    "])"
   ]
  },
  {
   "cell_type": "code",
   "execution_count": 12,
   "id": "7f03b975-f6ef-4506-9603-a31f5174cfb2",
   "metadata": {},
   "outputs": [],
   "source": [
    "from pyspark.sql import DataFrame\n",
    "\n",
    "def get_product_category_pairs(products: DataFrame, categories: DataFrame, product_category: DataFrame) -> DataFrame:\n",
    "    return products.join(\n",
    "        product_category, products.id == product_category.product_id, \"left\"\n",
    "    ).join(\n",
    "        categories, product_category.category_id == categories.id, \"left\"\n",
    "    ).select(\n",
    "        products.name.alias(\"product\"), categories.name.alias(\"category\")\n",
    "    )"
   ]
  },
  {
   "cell_type": "code",
   "execution_count": 13,
   "id": "1ec4e868-f8a2-468e-806c-d351f404e658",
   "metadata": {},
   "outputs": [
    {
     "name": "stdout",
     "output_type": "stream",
     "text": [
      "+--------+----------+\n",
      "| product|  category|\n",
      "+--------+----------+\n",
      "|  Яблоко|    Фрукты|\n",
      "|   Банан|    Фрукты|\n",
      "|Апельсин|Цитрусовые|\n",
      "|   Арбуз|      NULL|\n",
      "+--------+----------+\n",
      "\n",
      "+-------+\n",
      "|product|\n",
      "+-------+\n",
      "|  Арбуз|\n",
      "+-------+\n",
      "\n"
     ]
    }
   ],
   "source": [
    "pairs = get_product_category_pairs(products, categories, product_category)\n",
    "pairs.show()\n",
    "\n",
    "no_categories = pairs.filter(\"category IS NULL\").select(\"product\")\n",
    "no_categories.show()"
   ]
  },
  {
   "cell_type": "code",
   "execution_count": null,
   "id": "04e3e05a-c9e8-41d7-b3ad-be325b07a31f",
   "metadata": {},
   "outputs": [],
   "source": []
  }
 ],
 "metadata": {
  "kernelspec": {
   "display_name": "Python (pyspark-task3)",
   "language": "python",
   "name": "pyspark-task3"
  },
  "language_info": {
   "codemirror_mode": {
    "name": "ipython",
    "version": 3
   },
   "file_extension": ".py",
   "mimetype": "text/x-python",
   "name": "python",
   "nbconvert_exporter": "python",
   "pygments_lexer": "ipython3",
   "version": "3.12.10"
  }
 },
 "nbformat": 4,
 "nbformat_minor": 5
}
